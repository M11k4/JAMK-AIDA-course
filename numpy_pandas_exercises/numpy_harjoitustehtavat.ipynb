{
 "cells": [
  {
   "cell_type": "markdown",
   "source": [
    "# NumPy - harjoitukset\n",
    "\n",
    "\n",
    "Omatoimisia harjoitustehtävät NumPy-kirjastosta.\n",
    "Tehtävissä on Jupyter Notebook-dokumentista suoraan ajettavat testit, joilla voi tarkastaa, että onko vastaus oikein."
   ],
   "metadata": {
    "collapsed": false
   }
  },
  {
   "cell_type": "code",
   "execution_count": 1,
   "metadata": {
    "collapsed": true
   },
   "outputs": [],
   "source": [
    "# Testifunktio, joita käytetään ratkaisujen oikeellisuuden tarkastamiseen\n",
    "# Älä poista näitä!!!\n",
    "import numpy as np\n",
    "import matplotlib.pyplot as plt\n",
    "\n",
    "def numpy1a():\n",
    "    return np.array([[205, 355],[1350,2350]]);\n",
    "\n",
    "def numpy1b1():\n",
    "    return np.array([[ 1,  2,  3,  4,  5], [11, 17, 23, 29, 35]])\n",
    "\n",
    "def numpy1b2():\n",
    "    return np.array([[11,  23,  36,  50,  65], [ 21,  43,  66,  90, 115]])\n",
    "\n",
    "def numpy4a():\n",
    "    arr = [i for i in range(30)]\n",
    "    np.random.shuffle(arr)\n",
    "    return arr\n",
    "\n",
    "def numpy4b():\n",
    "    arr1 = [i for i in range(30)]\n",
    "    np.random.shuffle(arr1)\n",
    "    arr2 = [i for i in range(30)]\n",
    "    np.random.shuffle(arr2)\n",
    "    arr_gen = [arr1, arr2]\n",
    "    return arr_gen\n"
   ]
  },
  {
   "cell_type": "markdown",
   "source": [
    "## Harjoitus NumPy-1.\n",
    "\n",
    "## a) Laske kahden matriisin matriisitulo\n",
    "\n",
    "Laske matriisin `a` ja transponoidun matriisin `b` matriisitulo.\n",
    "Pidä laskujärjestys aina järjestyksessä: `a *  b`."
   ],
   "metadata": {
    "collapsed": false
   }
  },
  {
   "cell_type": "code",
   "execution_count": 2,
   "outputs": [
    {
     "name": "stdout",
     "output_type": "stream",
     "text": [
      "\n",
      "Arrays are not equal\n",
      "\n",
      "(shapes (0,), (2, 2) mismatch)\n",
      " x: array([], dtype=float64)\n",
      " y: array([[ 205,  355],\n",
      "       [1350, 2350]])\n"
     ]
    }
   ],
   "source": [
    "# Matriisien alustaminen\n",
    "a_data = [(1, 2, 3, 4, 5), (10, 15, 20, 25, 30)]\n",
    "b_data = [(11, 12, 13, 14, 15), (21, 22, 23, 24, 25)]\n",
    "\n",
    "# Matriisitulon laskeminen\n",
    "res = []\n",
    "# TODO: Tehtävän toteutus tänne!\n",
    "\n",
    "\n",
    "# Vastauksen automaattinen tarkastaminen\n",
    "try:\n",
    "    np.testing.assert_array_equal(res, numpy1a())\n",
    "    print('Result was OK')\n",
    "except AssertionError as err_msg:\n",
    "    print(err_msg)\n"
   ],
   "metadata": {
    "collapsed": false
   }
  },
  {
   "cell_type": "markdown",
   "source": [
    "## b) Kumulatiiviset summat\n",
    "\n",
    "Laske kumulatiivinen rivisumma matriisille a sekä kumulativiinen sarakesumma matriisille b.\n",
    "Vinkki `axis=`."
   ],
   "metadata": {
    "collapsed": false
   }
  },
  {
   "cell_type": "markdown",
   "source": [],
   "metadata": {
    "collapsed": false
   }
  },
  {
   "cell_type": "code",
   "execution_count": 3,
   "outputs": [
    {
     "name": "stdout",
     "output_type": "stream",
     "text": [
      "\n",
      "Arrays are not equal\n",
      "\n",
      "(shapes (0,), (2, 5) mismatch)\n",
      " x: array([], dtype=float64)\n",
      " y: array([[ 1,  2,  3,  4,  5],\n",
      "       [11, 17, 23, 29, 35]])\n"
     ]
    }
   ],
   "source": [
    "# Matriisien alustaminen\n",
    "a_data = [(1, 2, 3, 4, 5), (10, 15, 20, 25, 30)]\n",
    "b_data = [(11, 12, 13, 14, 15), (21, 22, 23, 24, 25)]\n",
    "\n",
    "# Matriisin kumulatiivisten summien laskeminen laskeminen\n",
    "res_rows = []\n",
    "res_cols = []\n",
    "# TODO: Tehtävän toteutus tänne!\n",
    "\n",
    "\n",
    "# Vastauksen automaattinen tarkastaminen\n",
    "try:\n",
    "    np.testing.assert_array_equal(res_rows, numpy1b1())\n",
    "    np.testing.assert_array_equal(res_cols, numpy1b2())\n",
    "    print('Result was OK')\n",
    "except AssertionError as err_msg:\n",
    "    print(err_msg)\n"
   ],
   "metadata": {
    "collapsed": false
   }
  },
  {
   "cell_type": "markdown",
   "source": [
    "## Harjoitus NumPy-2.\n",
    "## a) Generoi satunnaislukuvektori\n",
    "\n",
    "Generoi satunnaislukuvektori `rand_vec`, jonka arvot ovat välillä 0 - 20.\n",
    "Generoitavan vektorin koko on 20 alkiota.\n",
    "Tehtävässä tarkastetaan, että tulosvektori on oikean kokoinen ja että arvot ovat välillä [0,20].\n",
    "vinkki: `np.random`.\n"
   ],
   "metadata": {
    "collapsed": false
   }
  },
  {
   "cell_type": "code",
   "execution_count": 4,
   "outputs": [
    {
     "name": "stdout",
     "output_type": "stream",
     "text": [
      "Vektorikoko != 20\n"
     ]
    }
   ],
   "source": [
    "# Matriisin alustaminen\n",
    "rand_vec = np.array([])\n",
    "\n",
    "# TODO: Tehtävän toteutus tänne!\n",
    "\n",
    "\n",
    "# Vastauksen automaattinen tarkastaminen\n",
    "try:\n",
    "    assert rand_vec.dtype == np.float64, \"Tietotyyppi ei float64\"\n",
    "    assert rand_vec.size == 20, \"Vektorikoko != 20\"\n",
    "    assert rand_vec.max() <= 20, \"Maksimin arvo >= 20\"\n",
    "    assert rand_vec.min() >= 0, \"Minimin arvo < 0\"\n",
    "    print('Result was OK')\n",
    "except AssertionError as err_msg:\n",
    "    print(err_msg)\n"
   ],
   "metadata": {
    "collapsed": false
   }
  },
  {
   "cell_type": "markdown",
   "source": [
    "\n",
    "## b) Generoi satunnaislukuvektori\n",
    "\n",
    "Generoi satunnaislukuvektori `rand_vec`, jonka arvot ovat välillä 5.0 - 10.00.\n",
    "Generoitavan vektorin koko on 100 alkiota.\n",
    "Vinkki: Tehtävässä tarkastetaan ainoastaan tulosvektorin koko ja että arvot ovat välillä [5, 10]."
   ],
   "metadata": {
    "collapsed": false
   }
  },
  {
   "cell_type": "code",
   "execution_count": 5,
   "outputs": [
    {
     "name": "stdout",
     "output_type": "stream",
     "text": [
      "Vektorikoko != 100\n"
     ]
    }
   ],
   "source": [
    "# Matriisin alustaminen\n",
    "rand_vec = np.array([])\n",
    "\n",
    "# TODO: Tehtävän toteutus tänne!\n",
    "\n",
    "\n",
    "# Vastauksen automaattinen tarkastaminen\n",
    "try:\n",
    "    assert rand_vec.dtype == np.float64, \"Tietotyyppi ei float64\"\n",
    "    assert rand_vec.size == 100, \"Vektorikoko != 100\"\n",
    "    assert rand_vec.min() >= 5, \"Minimin arvo < 5\"\n",
    "    assert rand_vec.max() <= 10, \"Minimin arvo > 10\"\n",
    "    print('Result was OK')\n",
    "except AssertionError as err_msg:\n",
    "    print(err_msg)"
   ],
   "metadata": {
    "collapsed": false
   }
  },
  {
   "cell_type": "markdown",
   "source": [
    "## Harjoitus NumPy-3.\n",
    "## a) Lottoarvonta\n",
    "Generoi satunnaislukuvektori `lottery_numbers`, jossa on lottoarvonnan mukaisesti seitsemän lukua väliltä 1-40.\n",
    "Generoitavan vektorin koko on 7 alkiota (ei siis sisällä lisänumeroita).\n",
    "Tässä ei tarkasteta sitä, että luvut voivat olla samoja, joten tämä ei toimi oikean lottoarvonnan mukaisesti ja voi sisältää saman luvun jopa useampaan kertaan.\n",
    "Tehtävässä tarkastetaan, että lukuja on seitsemän kappaletta, ne ovat kokonaislukuja ja arvot ovat välillä 1-40."
   ],
   "metadata": {
    "collapsed": false
   }
  },
  {
   "cell_type": "code",
   "execution_count": 6,
   "outputs": [
    {
     "name": "stdout",
     "output_type": "stream",
     "text": [
      "Tietotyyppi ei int32\n"
     ]
    }
   ],
   "source": [
    "# Lottovektorin alustaminen\n",
    "lottery_numbers = np.array([])\n",
    "\n",
    "# TODO: Tehtävän toteutus tänne!\n",
    "\n",
    "\n",
    "# Vastauksen automaattinen tarkastaminen\n",
    "try:\n",
    "    assert lottery_numbers.dtype == np.int32, \"Tietotyyppi ei int32\"\n",
    "    assert lottery_numbers.size == 7, \"Vektorikoko != 7\"\n",
    "    assert lottery_numbers.min() >= 1, \"Minimin arvo < 1\"\n",
    "    assert lottery_numbers.max() <= 40, \"Maksimin arvo > 40\"\n",
    "    print('Result was OK')\n",
    "except AssertionError as err_msg:\n",
    "    print(err_msg)"
   ],
   "metadata": {
    "collapsed": false
   }
  },
  {
   "cell_type": "markdown",
   "source": [
    "## Harjoitus NumPy-3.\n",
    "## b) Lottoarvonta\n",
    "\n",
    "Generoi satunnaislukuvektori `lottery_numbers`, jossa on lottoarvonnan mukaisesti seitsemän lukua väliltä 1-40.\n",
    "Generoitavan vektorin koko on 7 alkiota (ei siis sisällä lisänumeroita).\n",
    "Tehtävässä ei sallita sitä, että lukujoukossa on samoja lukuja eli se toimii siinä mielessä kuin oikea lottoarvonta.\n",
    "Vinkki: Arvo yksi kerrallaan luku, joka on väliltä 1-40 ja lisää se listaan vain, jos siellä ei jo ole kyseistä lukua."
   ],
   "metadata": {
    "collapsed": false
   }
  },
  {
   "cell_type": "code",
   "execution_count": 7,
   "outputs": [
    {
     "name": "stdout",
     "output_type": "stream",
     "text": [
      "[]\n",
      "Tietotyyppi ei int32\n"
     ]
    }
   ],
   "source": [
    "# Lottovektorin alustaminen\n",
    "lottery_numbers = np.array([])\n",
    "\n",
    "# TODO: Tehtävän toteutus tänne!\n",
    "\n",
    "\n",
    "# Vastauksen automaattinen tarkastaminen\n",
    "lottery_numbers.sort()\n",
    "uniq_values = np.unique(lottery_numbers)\n",
    "uniq_values.sort()\n",
    "print(uniq_values)\n",
    "try:\n",
    "    assert lottery_numbers.dtype == np.int32, \"Tietotyyppi ei int32\"\n",
    "    assert lottery_numbers.size == 7, \"Vektorikoko != 7\"\n",
    "    assert lottery_numbers.min() >= 1, \"Minimin arvo < 1\"\n",
    "    assert lottery_numbers.max() <= 40, \"Maksimin arvo > 40\"\n",
    "    # Vertaillaan, että arvot ovat samoja molemmissa taulukoissa\n",
    "    comparison_arr = (lottery_numbers == uniq_values)\n",
    "    assert True, np.all(comparison_arr)\n",
    "    print('Result was OK')\n",
    "except AssertionError as err_msg:\n",
    "    print(err_msg)\n"
   ],
   "metadata": {
    "collapsed": false
   }
  },
  {
   "cell_type": "markdown",
   "source": [
    "## Harjoitus NumPy-4.\n",
    "## a) Arvojen skaalaus\n",
    "\n",
    "Arvojen skaalaus tietyille väleille on hyvin tyypillinen operaatio koneoppimisen sovelluksissa.\n",
    "\n",
    "Skaalataan tässä annetussa vektorissa olevat arvot välillä [0, 1].\n",
    "Arvoja on yhteensä 30 kappaletta ja ne tulee skaalata tasaisesti välille [0, 1].\n",
    "Toisin sanoen lukujoukon pienin arvo on nolla ja suurin arvo yksi.\n",
    "Vinkki: Tasavälisen skaalaamisen toteutuksessa voi käyttää `np.min` ja `np.max`-funktioita.\n"
   ],
   "metadata": {
    "collapsed": false
   }
  },
  {
   "cell_type": "code",
   "execution_count": 8,
   "outputs": [
    {
     "name": "stdout",
     "output_type": "stream",
     "text": [
      "[22, 13, 21, 11, 24, 25, 6, 18, 8, 2, 16, 4, 17, 26, 5, 19, 15, 14, 27, 28, 3, 10, 12, 9, 7, 0, 23, 29, 20, 1]\n",
      "Vektorikoko != 30\n"
     ]
    }
   ],
   "source": [
    "# Lottovektorin alustaminen\n",
    "scaled_values = np.array([])\n",
    "orig_arr = numpy4a()\n",
    "print(orig_arr)\n",
    "\n",
    "# TODO: Tehtävän toteutus tänne!\n",
    "\n",
    "\n",
    "# Vastauksen automaattinen tarkastaminen\n",
    "try:\n",
    "    assert scaled_values.dtype == np.float64, \"Tietotyyppi ei int32\"\n",
    "    assert scaled_values.size == 30, \"Vektorikoko != 30\"\n",
    "    assert scaled_values.min() == 0, \"Minimin arvo != 0\"\n",
    "    assert scaled_values.max() == 1, \"Maksimin arvo != 1\"\n",
    "    print('Result was OK')\n",
    "except AssertionError as err_msg:\n",
    "    print(err_msg)"
   ],
   "metadata": {
    "collapsed": false
   }
  },
  {
   "cell_type": "markdown",
   "source": [
    "## Harjoitus NumPy-4.\n",
    "## b) Arvojen skaalaus\n",
    "\n",
    "Arvojen skaalaus tietyille väleille on hyvin tyypillinen operaatio koneoppimisen sovelluksissa.\n",
    "\n",
    "Skaalataan tässä tehtävässä annetussa vektorissa olevat arvot välillä [-2, 2].\n",
    "Arvoja matriisissa on yhteensä [30, 30] kappaletta ja ne tulee skaalata tasaisesti välille [-2, 2].\n",
    "Vinkki: skaalattua tulosvektoria voi kertoa ja siitä voi myös vähentää arvon.\n"
   ],
   "metadata": {
    "collapsed": false
   }
  },
  {
   "cell_type": "code",
   "execution_count": 9,
   "outputs": [
    {
     "name": "stdout",
     "output_type": "stream",
     "text": [
      "Vektorikoko != 30\n"
     ]
    }
   ],
   "source": [
    "# Matriisin alustaminen\n",
    "scaled_values = np.array([[1], [1]], np.float64)\n",
    "orig_arr = numpy4b()\n",
    "\n",
    "# TODO: Tehtävän toteutus tänne!\n",
    "\n",
    "\n",
    "# Vastauksen automaattinen tarkastaminen\n",
    "try:\n",
    "    assert scaled_values.dtype == np.float64, \"Tietotyyppi ei float64\"\n",
    "    assert scaled_values[0].size == 30, \"Vektorikoko != 30\"\n",
    "    assert scaled_values[1].size == 30, \"Vektorikoko != 30\"\n",
    "    assert scaled_values[0].min() == -2, \"Minimin arvo != -2\"\n",
    "    assert scaled_values[0].max() == 2, \"Maksimin arvo != 2\"\n",
    "    assert scaled_values[1].min() == -2, \"Minimin arvo != -2\"\n",
    "    assert scaled_values[1].max() == 2, \"Maksimin arvo != 2\"\n",
    "    print('Result was OK')\n",
    "except AssertionError as err_msg:\n",
    "    print(err_msg)"
   ],
   "metadata": {
    "collapsed": false
   }
  },
  {
   "cell_type": "markdown",
   "source": [
    "## Harjoitus NumPy-5.\n",
    "### a) Visualisointi - sini-käyrä\n",
    "\n",
    "Seuraavaksi rakennamme joukon x-arvoja nollasta (`0`) arvoon `4*PI` -saakka `0.1` radiaanin välein.\n",
    "Tallennetaan `x`-arvot NumPy-taulukkoon.\n",
    "Piirrä arvoista `y`-akselille sini-käyrä `sin()`-funktiolla.\n",
    "Vinkki: kuvaajaa ei näissä tehtävisä voi tarkastaa, mutta kuvaajien piirtämiseen käytettävät `(x, y)` arvot tarkastetaan."
   ],
   "metadata": {
    "collapsed": false
   }
  },
  {
   "cell_type": "code",
   "execution_count": 10,
   "outputs": [
    {
     "name": "stdout",
     "output_type": "stream",
     "text": [
      "Vektorikoko != 40\n"
     ]
    }
   ],
   "source": [
    "# vektorien alustaminen\n",
    "x = np.array([])\n",
    "y = np.array([])\n",
    "\n",
    "# TODO: Tehtävän toteutus tänne!\n",
    "\n",
    "\n",
    "# Vastauksen data-osion automaattinen tarkastaminen\n",
    "try:\n",
    "    assert x.dtype == np.float64, \"Tietotyyppi ei float64\"\n",
    "    assert x.size == 126, \"Vektorikoko != 40\"\n",
    "    assert x.min() == 0, \"Minimin arvo != 0\"\n",
    "    assert x.max() == 12.5, \"Maksimin arvo on väärin\"\n",
    "    assert np.around(y.min(), decimals=1) == -1, \"Minimin arvo != -1\"\n",
    "    assert np.around(y.max(), decimals=1) == 1, \"Maksimin arvo != 1\"\n",
    "    print('Result was OK')\n",
    "except AssertionError as err_msg:\n",
    "    print(err_msg)"
   ],
   "metadata": {
    "collapsed": false
   }
  },
  {
   "cell_type": "markdown",
   "source": [
    "![NumPy-5a mallikuvio](img/numpy-t5a.png)"
   ],
   "metadata": {
    "collapsed": false
   }
  },
  {
   "cell_type": "markdown",
   "source": [
    "### b) Visualisointi - cosini-käyrä\n",
    "\n",
    "Seuraavaksi rakennamme joukon x-arvoja nollasta `8*PI` -saakka `0.1` radiaanin välein.\n",
    "Tallennetaan `x`-arvot NumPy-taulukkoon.\n",
    "Piirrä arvoista `y`-akselille cosini-käyrä `cos()`-funktiolla.\n",
    "Vinkki: kuvaajaa ei tässä tehtävässä voi tarkastaa, mutta kuvaajien piirtämiseen käytettävät (x, y) arvot tarkastetaan."
   ],
   "metadata": {
    "collapsed": false
   }
  },
  {
   "cell_type": "code",
   "execution_count": 11,
   "outputs": [
    {
     "name": "stdout",
     "output_type": "stream",
     "text": [
      "Vektorikoko != 40\n"
     ]
    }
   ],
   "source": [
    "# vektorien alustaminen\n",
    "x = np.array([])\n",
    "y = np.array([])\n",
    "\n",
    "# TODO: Tehtävän toteutus tänne!\n",
    "\n",
    "\n",
    "# Vastauksen data-osion automaattinen tarkastaminen\n",
    "try:\n",
    "    assert x.dtype == np.float64, \"Tietotyyppi ei float64\"\n",
    "    assert x.size == 252, \"Vektorikoko != 40\"\n",
    "    assert x.min() == 0, \"Minimin arvo != 0\"\n",
    "    assert x.max() == 25.1, \"Maksimin arvo != 25.1\"\n",
    "    assert np.around(y.min(), decimals=1) == -1, \"Minimin arvo != -1\"\n",
    "    assert np.around(y.max(), decimals=1) == 1, \"Maksimin arvo != 1\"\n",
    "    print('Result was OK')\n",
    "except AssertionError as err_msg:\n",
    "    print(err_msg)"
   ],
   "metadata": {
    "collapsed": false
   }
  },
  {
   "cell_type": "markdown",
   "source": [
    "![NumPy-5b mallikuvio](img/numpy-t5b.png)"
   ],
   "metadata": {
    "collapsed": false
   }
  },
  {
   "cell_type": "markdown",
   "source": [
    "## Harjoitus NumPy-6.\n",
    "### Visualisointi - logaritmi- ja eksponenttifunktion kuvaajat\n",
    "\n",
    "Seuraavaksi rakennamme joukon `x`-arvoja alkuarvosta `0` arvoon `10` -saakka `0.01` askeleella.\n",
    "Viimeinen askel ei kuitenkaan sisälly joukkoon, joten viimeinen piirrettävä x:n arvo on `9.99`.\n",
    "Tallennetaan `x`-arvot numpy-taulukkoon.\n",
    "Vinkki: kuvaajaa ei näissä tehtävissä voi tarkastaa, mutta kuvaajien piirtämiseen käytettävät `(x, y)` arvot tarkastetaan."
   ],
   "metadata": {
    "collapsed": false
   }
  },
  {
   "cell_type": "markdown",
   "source": [
    "### a) logaritmifunktion kuvaaja\n",
    "\n",
    "Piirrä arvoista `y`-akselille **log-käyrä** `log()`-funktiolla.\n",
    "\n",
    "Vinkki: ensimmäinen arvo ei ole numeerinen vaan `-np.Inf`. Tästä aiheutuu virheilmoitus `RuntimeWarning: divide by zero ...`, jota siis ei pidä tehtävässä muuttaa."
   ],
   "metadata": {
    "collapsed": false
   }
  },
  {
   "cell_type": "code",
   "execution_count": 12,
   "outputs": [
    {
     "name": "stdout",
     "output_type": "stream",
     "text": [
      "Vektorikoko != 1000\n"
     ]
    }
   ],
   "source": [
    "# vektorien alustaminen\n",
    "x = np.array([])\n",
    "y = np.array([])\n",
    "\n",
    "# TODO: Tehtävän toteutus tänne!\n",
    "\n",
    "# Vastauksen data-osion automaattinen tarkastaminen\n",
    "try:\n",
    "    assert x.dtype == np.float64, \"Tietotyyppi ei float64\"\n",
    "    assert x.size == 1000, \"Vektorikoko != 1000\"\n",
    "    assert y.size == 1000, \"Vektorikoko != 1000\"\n",
    "    assert x.min() == 0, \"Minimin arvo != 0\"\n",
    "    assert x.max() == 9.99, \"Maksimin arvo != 9.99\"\n",
    "    assert y.min() == -np.Inf, \"Minimin arvo != -Inf\"\n",
    "    assert np.around(y.max(), decimals=1) == np.around(np.log(9.99), decimals=1), \"Maksimin arvo != 1\"\n",
    "    print('Result was OK')\n",
    "except AssertionError as err_msg:\n",
    "    print(err_msg)"
   ],
   "metadata": {
    "collapsed": false
   }
  },
  {
   "cell_type": "markdown",
   "source": [
    "![NumPy-6a mallikuvio](img/numpy-t6a.png)"
   ],
   "metadata": {
    "collapsed": false
   }
  },
  {
   "cell_type": "markdown",
   "source": [
    "### b) eksponenttifunktion kuvaaja\n",
    "\n",
    "Piirrä arvoista `y`-akselille **exp-käyrä** `exp()`-funktiolla."
   ],
   "metadata": {
    "collapsed": false
   }
  },
  {
   "cell_type": "code",
   "execution_count": 13,
   "outputs": [
    {
     "name": "stdout",
     "output_type": "stream",
     "text": [
      "Vektorikoko != 1000\n"
     ]
    }
   ],
   "source": [
    "# vektorien alustaminen\n",
    "x = np.array([])\n",
    "y = np.array([])\n",
    "\n",
    "# TODO: Tehtävän toteutus tänne!\n",
    "\n",
    "# Vastauksen data-osion automaattinen tarkastaminen\n",
    "try:\n",
    "    assert x.dtype == np.float64, \"Tietotyyppi ei float64\"\n",
    "    assert x.size == 1000, \"Vektorikoko != 1000\"\n",
    "    assert y.size == 1000, \"Vektorikoko != 1000\"\n",
    "    assert x.min() == 0, \"Minimin arvo != 0\"\n",
    "    assert x.max() == 9.99, \"Maksimin arvo != 9.99\"\n",
    "    assert y.min() == 1.0, \"Minimin arvo != 1.0\"\n",
    "    assert np.around(y.max(), decimals=1) == np.around(np.exp(9.99), decimals=1), \"Maksimin arvo väärin\"\n",
    "    print('Result was OK')\n",
    "except AssertionError as err_msg:\n",
    "    print(err_msg)"
   ],
   "metadata": {
    "collapsed": false
   }
  },
  {
   "cell_type": "markdown",
   "source": [
    "![NumPy-6b mallikuvio](img/numpy-t6b.png)"
   ],
   "metadata": {
    "collapsed": false
   }
  }
 ],
 "metadata": {
  "kernelspec": {
   "display_name": "Python 3",
   "language": "python",
   "name": "python3"
  },
  "language_info": {
   "codemirror_mode": {
    "name": "ipython",
    "version": 2
   },
   "file_extension": ".py",
   "mimetype": "text/x-python",
   "name": "python",
   "nbconvert_exporter": "python",
   "pygments_lexer": "ipython2",
   "version": "2.7.6"
  }
 },
 "nbformat": 4,
 "nbformat_minor": 0
}
