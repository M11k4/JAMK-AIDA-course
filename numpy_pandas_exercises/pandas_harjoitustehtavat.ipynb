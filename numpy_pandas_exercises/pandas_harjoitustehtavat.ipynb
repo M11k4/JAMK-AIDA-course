{
 "cells": [
  {
   "cell_type": "markdown",
   "source": [
    "# Pandas - harjoitukset\n",
    "\n",
    "Omatoimisia harjoitustehtävät Pandas-kirjastosta.\n",
    "Tehtävissä on Jupyter Notebook-dokumentista suoraan ajettavat testit, joilla voi tarkastaa, että onko vastaus oikein."
   ],
   "metadata": {
    "collapsed": false
   }
  },
  {
   "cell_type": "code",
   "execution_count": 1,
   "metadata": {
    "collapsed": true
   },
   "outputs": [],
   "source": [
    "# Testifunktioita, joita käytetään ratkaisujen oikeellisuuden tarkastamiseen\n",
    "# Älä poista näitä!!!\n",
    "import numpy as np\n",
    "import pandas as pd\n",
    "import matplotlib.pyplot as plt\n",
    "import seaborn as sns\n",
    "\n",
    "veikkausliiga = {\n",
    "    2008: {'Inter': 1, 'Honka': 2, 'Lahti': 3, 'HJK': 4, 'MYPA': 5, 'TPS': 6, 'TamU': 7, 'Haka': 8, 'Jaro': 9,\n",
    "           'RoPS': 10, 'VPS': 11, 'IFK Mariehamn': 12, 'KuPS': 13, 'KooTeePee': 14},\n",
    "    2009: {'HJK': 1, 'Honka': 2, 'TPS': 3, 'IFK Mariehamn': 4, 'Inter': 5, 'Haka': 6, 'TamU': 7, 'VPS': 8, 'MYPA': 9,\n",
    "           'Jaro': 10, 'Lahti': 11, 'KuPS': 12, 'JJK': 13, 'RoPS': 14},\n",
    "    2010: {'HJK': 1, 'KuPS': 2, 'TPS': 3, 'Honka': 4, 'Jaro': 5, 'Inter': 6, 'TamU': 7, 'Haka': 8, 'MYPA': 9, 'VPS': 10,\n",
    "           'FC/AC Oulu': 11, 'IFK Mariehamn': 12, 'JJK': 13, 'Lahti': 14},\n",
    "    2011: {'HJK': 1, 'Inter': 2, 'JJK': 3, 'Honka': 4, 'TPS': 5, 'KuPS': 6, 'IFK Mariehamn': 7, 'MYPA': 8, 'VPS': 9,\n",
    "           'Haka': 10, 'Jaro': 11, 'RoPS': 12},\n",
    "    2012: {'HJK': 1, 'Inter': 2, 'TPS': 3, 'IFK Mariehamn': 4, 'Lahti': 5, 'MYPA': 6, 'Honka': 7, 'VPS': 8, 'JJK': 9,\n",
    "           'KuPS': 10, 'Jaro': 11, 'Haka': 12},\n",
    "    2013: {'HJK': 1, 'Honka': 2, 'VPS': 3, 'IFK Mariehamn': 4, 'Lahti': 5, 'MYPA': 6, 'KuPS': 7, 'TPS': 8, 'Inter': 9,\n",
    "           'Jaro': 10, 'RoPS': 11, 'JJK': 12},\n",
    "    2014: {'HJK': 1, 'SJK': 2, 'Lahti': 3, 'VPS': 4, 'IFK Mariehamn': 5, 'Jaro': 6, 'KuPS': 7, 'MYPA': 8, 'Inter': 9,\n",
    "           'RoPS': 10, 'Honka': 11, 'TPS': 12},\n",
    "    2015: {'SJK': 1, 'RoPS': 2, 'HJK': 3, 'Inter': 4, 'Lahti': 5, 'IFK Mariehamn': 6, 'HIFK': 7, 'Ilves': 8, 'KuPS': 9,\n",
    "           'VPS': 10, 'KooTeePee': 11, 'Jaro': 12},\n",
    "    2016: {'IFK Mariehamn': 1, 'HJK': 2, 'SJK': 3, 'VPS': 4, 'Ilves': 5, 'RoPS': 6, 'KuPS': 7, 'Lahti': 8, 'PS Kemi': 9,\n",
    "           'HIFK': 10, 'Inter': 11, 'PK-35': 12},\n",
    "    2017: {'HJK': 1, 'KuPS': 2, 'Ilves': 3, 'Lahti': 4, 'IFK Mariehamn': 5, 'SJK': 6, 'RoPS': 7, 'VPS': 8, 'Inter': 9,\n",
    "           'PS Kemi': 10, 'HIFK': 11, 'JJK': 12},\n",
    "    2018: {'HJK': 1, 'RoPS': 2, 'KuPS': 3, 'Honka': 4, 'Ilves': 5, 'VPS': 6, 'Inter': 7, 'Lahti': 8, 'SJK': 9,\n",
    "           'IFK Mariehamn': 10, 'TPS': 11, 'PS Kemi': 12},\n",
    "    2019: {'KuPS': 1, 'Inter': 2, 'Honka': 3, 'Ilves': 4, 'HJK': 5, 'IFK Mariehamn': 6, 'HIFK': 7, 'Lahti': 8, 'SJK': 9,\n",
    "           'RoPS': 10, 'KPV': 11, 'VPS': 12}}\n",
    "\n",
    "\n",
    "def pandas_h1a():\n",
    "    return ['Inter', 'Honka', 'Lahti', 'HJK', 'MYPA', 'TPS', 'TamU', 'Haka', 'Jaro',\n",
    "            'RoPS', 'VPS', 'IFK Mariehamn', 'KuPS', 'KooTeePee', 'JJK',\n",
    "            'FC/AC Oulu', 'SJK', 'HIFK', 'Ilves', 'PS Kemi', 'PK-35', 'KPV']\n",
    "\n",
    "\n",
    "def pandas_h1b():\n",
    "    return pd.Series({2009: 1, 2010: 1, 2011: 1, 2012: 1,\n",
    "                      2013: 1, 2014: 1, 2015: 3, 2016: 2,\n",
    "                      2017: 1, 2018: 1}, dtype=np.int32, name=\"HJK\")\n",
    "\n",
    "\n",
    "def pandas_h2a():\n",
    "    return pd.DataFrame({'RoPS': {2010: 20, 2011: 12, 2012: 20, 2013: 11, 2014: 10, 2015: 2},\n",
    "                         'JJK': {2010: 13, 2011: 3, 2012: 9, 2013: 12, 2014: 20, 2015: 20},\n",
    "                         'SJK': {2010: 20, 2011: 20, 2012: 20, 2013: 20, 2014: 2, 2015: 1}}, dtype=np.int32)\n",
    "\n",
    "\n",
    "def pandas_h2b():\n",
    "    return pd.Series(\n",
    "        {'HJK': 17, 'Inter': 65, 'IFK Mariehamn': 70, 'KuPS': 78, 'VPS': 81, 'Lahti': 86,\n",
    "         'Honka': 96, 'TPS': 111, 'RoPS': 114, 'MYPA': 131}, dtype=np.int32, name=2018)\n",
    "\n",
    "\n",
    "def pandas_h3a():\n",
    "    return pd.DataFrame({'kunta': {65: 'Jämsä',\n",
    "                                   92: 'Keuruu',\n",
    "                                   234: 'Saarijärvi',\n",
    "                                   298: 'Viitasaari',\n",
    "                                   63: 'Jyväskylä',\n",
    "                                   197: 'Pihtipudas'},\n",
    "                         'maapinta-ala': {65: 1571.36,\n",
    "                                          92: 1257.97,\n",
    "                                          234: 1251.72,\n",
    "                                          298: 1248.55,\n",
    "                                          63: 1170.97,\n",
    "                                          197: 1074.9},\n",
    "                         'Väkiluku': {65: 20607,\n",
    "                                      92: 9762,\n",
    "                                      234: 9415,\n",
    "                                      298: 6264,\n",
    "                                      63: 141305,\n",
    "                                      197: 4053}})\n",
    "\n",
    "\n",
    "def pandas_h3b():\n",
    "    return pd.DataFrame({'kunta': {76: 'Karijoki',\n",
    "                                   299: 'Vimpeli',\n",
    "                                   14: 'Evijärvi',\n",
    "                                   9: 'Enonkoski',\n",
    "                                   192: 'Pertunmaa',\n",
    "                                   115: 'Kuortane',\n",
    "                                   128: 'Lappajärvi',\n",
    "                                   271: 'Teuva',\n",
    "                                   253: 'Soini',\n",
    "                                   47: 'Ilmajoki'},\n",
    "                         'kokonaispinta-ala': {76: 186.5,\n",
    "                                               299: 328.79,\n",
    "                                               14: 390.71,\n",
    "                                               9: 419.2,\n",
    "                                               192: 454.19,\n",
    "                                               115: 484.89,\n",
    "                                               128: 523.73,\n",
    "                                               271: 556.05,\n",
    "                                               253: 574.22,\n",
    "                                               47: 579.68},\n",
    "                         'Väkiluku': {76: 1274,\n",
    "                                      299: 2901,\n",
    "                                      14: 2473,\n",
    "                                      9: 1405,\n",
    "                                      192: 1713,\n",
    "                                      115: 3572,\n",
    "                                      128: 3078,\n",
    "                                      271: 5158,\n",
    "                                      253: 2085,\n",
    "                                      47: 12187}})\n",
    "\n",
    "\n",
    "def pandas_h4():\n",
    "    return pd.DataFrame({'kunta': {241: 'Savonlinna', 157: 'Mikkeli', 298: 'Viitasaari', 63: 'Jyväskylä',\n",
    "                                   194: 'Pieksämäki', 309: 'Äänekoski'},\n",
    "                         'vesipinta-ala': {241: 1359.61, 157: 681.21, 298: 340.57, 63: 295.38, 194: 267.52,\n",
    "                                           309: 253.82}})\n",
    "\n",
    "\n",
    "def pandas_h5():\n",
    "    return pd.DataFrame({'kunta': {33: 'Helsinki', 11: 'Espoo', 290: 'Vantaa', 203: 'Porvoo', 40: 'Hyvinkää',\n",
    "                                   141: 'Lohja', 66: 'Järvenpää', 174: 'Nurmijärvi'},\n",
    "                         'Väkiluku': {33: 648042, 11: 283632, 290: 228166, 203: 50262, 40: 46504, 141: 46296, 66: 43410, 174: 42665}})\n",
    "\n",
    "def pandas_h6():\n",
    "    return pd.Series({'Kainuu': 2835.92, 'Keski-Suomi': 867.33, 'Satakunta': 676.04, 'Päijät-Häme': 694.96,\n",
    "                      'Uusimaa': 617.67}, name='kokonaispinta-ala', dtype=np.float64)"
   ]
  },
  {
   "cell_type": "markdown",
   "source": [
    "## Harjoitus Pandas-1.\n",
    "## a) Tietojen suodatus\n",
    "\n",
    "Käsittelyssä on sisäkkäisistä sanakirjoista koostuva tietorakenne, jossa on jalkapallon Veikkausliigajoukkueiden sarjasijoitukset 2008-2019.\n",
    "* Käyttävän ja alustetun muuttujan nimi on `veikkausliiga`.\n",
    "* Muokkaa datasta DataFrame, jossa vuodet ovat rivi-indeksejä ja joukkueet sarakkeiden nimiä.\n",
    "* Ota DataFrame-taulukosta pelkästään sarakkeiden nimet (ts. joukkueiden nimet) ja muunna tulos Pythonin `list`-rakenteeksi ennen vastauksen tarkastamista.\n",
    "\n",
    "Vinkki: Täytä DataFramessa olevat `NaN`-arvot arvolla nolla. Transponoi matriisi `.T`-operaatiolla\n"
   ],
   "metadata": {
    "collapsed": false
   }
  },
  {
   "cell_type": "code",
   "execution_count": 2,
   "outputs": [
    {
     "name": "stdout",
     "output_type": "stream",
     "text": [
      "Result was OK\n"
     ]
    }
   ],
   "source": [
    "# DataFramen alustaminen\n",
    "res = ['Tiimi']\n",
    "\n",
    "# TODO: Tehtävän toteutus tänne!\n",
    "\n",
    "\n",
    "# Vastauksen automaattinen tarkastaminen\n",
    "try:\n",
    "    assert res, pandas_h1a()\n",
    "    print(f'Result was OK')\n",
    "except AssertionError as err_msg:\n",
    "    print(err_msg)\n"
   ],
   "metadata": {
    "collapsed": false
   }
  },
  {
   "cell_type": "markdown",
   "source": [
    "## Harjoitus Pandas-1.\n",
    "## b) Tietojen suodatus\n",
    "\n",
    "Käsittelyssä on sisäkkäisistä sanakirjoista koostuva tietorakenne, jossa on jalkapallon Veikkausliigajoukkueiden sarjasijoitukset 2008-2019.\n",
    "Tee sanakirjasta **DataFrame**, jossa vuodet ovat rivi-indeksejä ja joukkueet sarakkeiden nimiä.\n",
    "\n",
    "* Suodata ne vuodet ja sijoitukset, jolloin **HJK**:n sijoitus on ollut **3 parhaan joukossa**.\n",
    "* Muodosta `Series`-tulostaulukko, jossa on vain joukkueen **HJK** tiedot.\n",
    "\n"
   ],
   "metadata": {
    "collapsed": false
   }
  },
  {
   "cell_type": "markdown",
   "source": [],
   "metadata": {
    "collapsed": false
   }
  },
  {
   "cell_type": "code",
   "execution_count": 3,
   "outputs": [
    {
     "name": "stdout",
     "output_type": "stream",
     "text": [
      "Series are different\n",
      "\n",
      "Series length are different\n",
      "[left]:  1, Int64Index([2000], dtype='int64')\n",
      "[right]: 10, Int64Index([2009, 2010, 2011, 2012, 2013, 2014, 2015, 2016, 2017, 2018], dtype='int64')\n"
     ]
    }
   ],
   "source": [
    "# Series-tulostaulukon alustaminen\n",
    "res = pd.Series({2000: 20})\n",
    "\n",
    "# TODO: Tehtävän toteutus tänne!\n",
    "\n",
    "\n",
    "# Vastauksen automaattinen tarkastaminen\n",
    "try:\n",
    "    pd.testing.assert_series_equal(res, pandas_h1b(), check_dtype=False)\n",
    "    print(f'Result was OK')\n",
    "except AssertionError as err_msg:\n",
    "    print(err_msg)\n"
   ],
   "metadata": {
    "collapsed": false
   }
  },
  {
   "cell_type": "markdown",
   "source": [
    "## Harjoitus Pandas-2.\n",
    "## a) Tietojen suodatus\n",
    "\n",
    "Käsittelyssä on sisäkkäisistä sanakirjoista koostuva tietorakenne, jossa on jalkapallon Veikkausliigajoukkueiden sarjasijoitukset 2008-2019.\n",
    "Tee sanakirjasta DataFrame, jossa vuodet ovat rivi-indeksejä ja joukkueet sarakkeiden nimiä.\n",
    "\n",
    "* Jos data sisältää puuttuvia arvoja **NaN**, niin sijoita näiden paikalle lukuarvo **20**.\n",
    "* Valitse vuosilta **2010-2015** ja joukkueiden `RoPS, JJK, SJK` sarakkeet.\n",
    "* Muodosta näiltä vuosilta DataFrame, jossa on vain joukkueiden `'RoPS', 'JJK', 'SJK'` tiedot juuri tässä järjestyksessä\n"
   ],
   "metadata": {
    "collapsed": false
   }
  },
  {
   "cell_type": "code",
   "execution_count": 4,
   "outputs": [
    {
     "name": "stdout",
     "output_type": "stream",
     "text": [
      "DataFrame are different\n",
      "\n",
      "DataFrame shape mismatch\n",
      "[left]:  (1, 1)\n",
      "[right]: (6, 3)\n"
     ]
    }
   ],
   "source": [
    "# Matriisien alustaminen\n",
    "res = pd.DataFrame({'joukkue': {2000: 20}})\n",
    "\n",
    "# TODO: Tehtävän toteutus tänne!\n",
    "\n",
    "# Vastauksen automaattinen tarkastaminen\n",
    "try:\n",
    "    pd.testing.assert_frame_equal(res, pandas_h2a(), check_dtype=False)\n",
    "    print(f'Result was OK')\n",
    "except AssertionError as err_msg:\n",
    "    print(err_msg)\n"
   ],
   "metadata": {
    "collapsed": false
   }
  },
  {
   "cell_type": "markdown",
   "source": [
    "## Harjoitus Pandas-2.\n",
    "## b) kumulatiivinen summa\n",
    "\n",
    "Käsittelyssä on sisäkkäisistä sanakirjoista koostuva tietorakenne, jossa on jalkapallon Veikkausliigajoukkueiden sarjasijoitukset 2008-2019.\n",
    "Tee sanakirjasta DataFrame, jossa vuodet ovat rivi-indeksejä ja joukkueet sarakkeiden nimiä.\n",
    "\n",
    "Lasketaan sarjasijoitusten perusteella nk. *maratontaulukko*, jossa kaikkien vuosien **sarjasijoitukset** lasketaan **kumulatiivisena summana** yhteen.\n",
    "\n",
    "* Jos data sisältää puuttuvia arvoja **NaN**, niin sijoita näiden paikalle lukuarvo **20**.\n",
    "* Laske vuosilta **2008-2018** joukkueiden sijoitukset sarjassa kumulatiivisesti yhteen (**kumulaativinen summa**)\n",
    "* Lisää `Series`-tuloslistaan vain **kymmenen pienintä** yhteissijoitusmäärää saanutta joukkuetta sekä niiden yhteissijoitusmäärä (vuonna 2018)\n"
   ],
   "metadata": {
    "collapsed": false
   }
  },
  {
   "cell_type": "code",
   "execution_count": 5,
   "outputs": [
    {
     "name": "stdout",
     "output_type": "stream",
     "text": [
      "Series are different\n",
      "\n",
      "Series length are different\n",
      "[left]:  1, RangeIndex(start=0, stop=1, step=1)\n",
      "[right]: 10, Index(['HJK', 'Inter', 'IFK Mariehamn', 'KuPS', 'VPS', 'Lahti', 'Honka', 'TPS',\n",
      "       'RoPS', 'MYPA'],\n",
      "      dtype='object')\n"
     ]
    }
   ],
   "source": [
    "# Series-tulostaulukon alustaminen\n",
    "res = pd.Series(1)\n",
    "\n",
    "# TODO: Tehtävän toteutus tänne!\n",
    "\n",
    "# Vastauksen automaattinen tarkastaminen\n",
    "try:\n",
    "    pd.testing.assert_series_equal(res, pandas_h2b(), check_dtype=False)\n",
    "    print(f'Result was OK')\n",
    "except AssertionError as err_msg:\n",
    "    print(err_msg)\n"
   ],
   "metadata": {
    "collapsed": false
   }
  },
  {
   "cell_type": "markdown",
   "source": [
    "## Harjoitus Pandas-3.\n",
    "## a) CSV-datan lukeminen ja suodatus\n",
    "\n",
    "Tehtävän data löytyy osoitteesta:\n",
    "**https://student.labranet.jamk.fi/~pelju/data_av/sources/kunnat.csv**\n",
    "Lataa CSV-data DataFrameen URL-osoitteesta.\n",
    "\n",
    "* kopioi uuteen DataFrameen kaikki sarakkeet ja rivit, joissa sarakkeessa **maakunta** esiintyy merkkijono **Keski-Suomi** ja sarakkeen **kokonaispinta-ala** arvo on suurempi kuin **1000**\n",
    "* suodata tiedot DataFramesta näyttämällä vain seuraavat sarakkeet: **kunta, maapinta-ala, Väkiluku**.\n",
    "* Lajittele data siten, että kunta, jonka **maapinta-ala**-sarakkeen arvo on suurin tulee ensimmäiseksi (lajittelujärjestys laskeva)\n",
    "* Lisää tuloksena saatavaan DataFrame-taulukkoon kuusi (6) ensimmäistä riviä.\n",
    "\n",
    "Vinkki: Rivi-indeksi on esitetty ensimmäisessä sarakkeessa."
   ],
   "metadata": {
    "collapsed": false
   }
  },
  {
   "cell_type": "code",
   "execution_count": 6,
   "outputs": [
    {
     "name": "stdout",
     "output_type": "stream",
     "text": [
      "DataFrame are different\n",
      "\n",
      "DataFrame shape mismatch\n",
      "[left]:  (1, 1)\n",
      "[right]: (6, 3)\n"
     ]
    }
   ],
   "source": [
    "# DataFramen alustaminen\n",
    "res = pd.DataFrame({'kunta': {1000: 'Esi-kaupunki'}})\n",
    "url = \"https://student.labranet.jamk.fi/~pelju/data_av/sources/kunnat.csv\"\n",
    "\n",
    "# TODO: Tehtävän toteutus tänne\n",
    "\n",
    "\n",
    "# Vastauksen automaattinen tarkastaminen\n",
    "try:\n",
    "    pd.testing.assert_frame_equal(res, pandas_h3a(), check_dtype=False)\n",
    "    print(f'Result was OK')\n",
    "except AssertionError as err_msg:\n",
    "    print(err_msg)"
   ],
   "metadata": {
    "collapsed": false
   }
  },
  {
   "cell_type": "markdown",
   "source": [
    "## Harjoitus Pandas-3.\n",
    "## b) CSV-datan lukeminen ja suodatus\n",
    "\n",
    "Tehtävän data löytyy osoitteesta:\n",
    "**https://student.labranet.jamk.fi/~pelju/data_av/sources/kunnat.csv**\n",
    "Lataa CSV-data DataFrameen URL-osoitteesta\n",
    "\n",
    "* kopioi uuteen DataFrameen kaikki sarakkeet ja rivit, joissa sarakkeessa **maakunta** esiintyy merkkijono **Etelä-Savo**, **Etelä-Pohjanmaa** ja sarakkeen **maapinta-ala** arvo on pienempi kuin **600**\n",
    "* suodata tiedot DataFramesta näyttämällä vain seuraavat sarakkeet: **kunta, maapinta-ala, Väkiluku**.\n",
    "* Lajittele data siten, että kunta, jonka **maapinta-ala**-sarakkeen arvo on pienin tulee ensimmäiseksi (lajittelujärjestys nouseva)\n",
    "* Lisää tuloksena saatavaan **DataFrame**-taulukkoon kaikki ehdot täyttävät kunnat.\n"
   ],
   "metadata": {
    "collapsed": false
   }
  },
  {
   "cell_type": "code",
   "execution_count": 7,
   "outputs": [
    {
     "name": "stdout",
     "output_type": "stream",
     "text": [
      "DataFrame are different\n",
      "\n",
      "DataFrame shape mismatch\n",
      "[left]:  (1, 1)\n",
      "[right]: (10, 3)\n"
     ]
    }
   ],
   "source": [
    "# DataFramen alustaminen\n",
    "res = pd.DataFrame({'kunta': {1000: 'Esi-kaupunki'}})\n",
    "url = \"https://student.labranet.jamk.fi/~pelju/data_av/sources/kunnat.csv\"\n",
    "\n",
    "# TODO: Tehtävän toteutus tänne\n",
    "\n",
    "\n",
    "# Vastauksen automaattinen tarkastaminen\n",
    "try:\n",
    "    pd.testing.assert_frame_equal(res, pandas_h3b(), check_dtype=False)\n",
    "    print(f'Result was OK')\n",
    "except AssertionError as err_msg:\n",
    "    print(err_msg)"
   ],
   "metadata": {
    "collapsed": false
   }
  },
  {
   "cell_type": "markdown",
   "source": [
    "## Harjoitus Pandas-4.\n",
    "### Aihe: Vesipinta-alaltaan suurimmat kunnat kahdesta maakunnasta\n",
    "\n",
    "* lataa datan DataFrameen URL-osoitteesta, jota käytetty edellisessä harjoituksessa\n",
    "* kopioi uuteen DataFrameen kaikki sarakkeet ja rivit, jossa sarakkeessa **kuntamuoto** esiintyy merkkijonot **'Kaupunki'**\n",
    "* kopioi uuteen DataFrameen kaikki sarakkeet ja rivit, jossa sarakkeessa **maakunta** esiintyy merkkijonot **'Etelä-Savo'** tai **'Keski-Suomi'**\n",
    "* laske uusi sarake **vesipinta-ala**, joka lasketaan vähentämällä **kokonaispinta-ala**-sarakkeesta **maapinta-ala**-sarake. Pyöristä laskutulos **kahteen (2) desimaaliin**. Lisää uusi sarake DataFrameen\n",
    "* Lajittele DataFramessa olevat kaupungit *laskevaan järjestykseen* (suurin ensin) uuden **vesipinta-ala**-sarakkeen mukaan\n",
    "* Valitse tulostukseen mukaan seuraavat sarakkeet: **kunta, vesipinta-ala**.\n",
    "* ota lopputuloksena saatavaan `Series`-taulukkoon vain *kuusi* (6) ensimmäistä riviä."
   ],
   "metadata": {
    "collapsed": false
   }
  },
  {
   "cell_type": "code",
   "execution_count": 8,
   "outputs": [
    {
     "name": "stdout",
     "output_type": "stream",
     "text": [
      "DataFrame Expected type <class 'pandas.core.frame.DataFrame'>, found <class 'pandas.core.series.Series'> instead\n"
     ]
    }
   ],
   "source": [
    "# Series-tulostaulukon alustaminen\n",
    "res = pd.Series({2000: 20})\n",
    "\n",
    "# TODO: Tehtävän toteutus tänne!\n",
    "\n",
    "\n",
    "# Vastauksen automaattinen tarkastaminen\n",
    "try:\n",
    "    pd.testing.assert_frame_equal(res.head(6), pandas_h4(), check_dtype=False)\n",
    "    print(f'Result was OK')\n",
    "except AssertionError as err_msg:\n",
    "    print(err_msg)\n"
   ],
   "metadata": {
    "collapsed": false
   }
  },
  {
   "cell_type": "markdown",
   "source": [
    "## Harjoitus Pandas-5.\n",
    "### Aihe: Kunta-datan pohjalta tehtävä visualisointi.\n",
    "\n",
    "* Tulosta maakunnan **'Uusimaa'** kahdeksan (8) suurinta kuntaa järjestyksessä **Väkiluku**-sarakkeen mukaan käyttäen pylväsdiagrammia.\n",
    "* Valitse DataFrame-tulosjoukkoon vain sarakkeet: `'kunta','Väkiluku'`.\n",
    "* Tuloksena saatava DataFrame-taulukko tarkastetaan tehtävässä ennen piirtämistä\n",
    "\n",
    "Tavoiteltavan visuaalisen lopputuloksen mallikuvan näet alta.\n",
    "\n",
    "Vinkki: **Seaborn**-kirjasto ja sieltä `sns.barplot`."
   ],
   "metadata": {
    "collapsed": false
   }
  },
  {
   "cell_type": "code",
   "execution_count": 9,
   "outputs": [
    {
     "name": "stdout",
     "output_type": "stream",
     "text": [
      "DataFrame are different\n",
      "\n",
      "DataFrame shape mismatch\n",
      "[left]:  (1, 1)\n",
      "[right]: (8, 2)\n"
     ]
    }
   ],
   "source": [
    "# DataFrame-tulostaulukon alustaminen\n",
    "res = pd.DataFrame({'kunta': {1000: 'Esi-kaupunki'}})\n",
    "# DataFramen alustaminen\n",
    "df = pd.read_csv(url, sep=\";\", decimal=\",\")\n",
    "\n",
    "# TODO: Tehtävän toteutus tänne!\n",
    "\n",
    "\n",
    "# Vastauksen dataFramen tulosjoukon tarkastaminen\n",
    "try:\n",
    "    pd.testing.assert_frame_equal(res, pandas_h5(), check_dtype=False)\n",
    "    print(f'Result was OK')\n",
    "except AssertionError as err_msg:\n",
    "    print(err_msg)\n",
    "\n",
    "# TODO: Piirron toteuttaminen\n",
    "\n",
    "# plt.show()"
   ],
   "metadata": {
    "collapsed": false
   }
  },
  {
   "cell_type": "markdown",
   "source": [
    "![Pandas-5 mallikuvio](img/pandas-t5.png)"
   ],
   "metadata": {
    "collapsed": false
   }
  },
  {
   "cell_type": "markdown",
   "source": [
    "## Harjoitus Pandas-6.\n",
    "### Aihe: Ryhmitellyn kunta-datan pohjalta tehty visualisointi.\n",
    "\n",
    "* Ryhmittele kuntadata uudelleen **maakunta**-sarakkeen mukaan.\n",
    "* Sen jälkeen valitse **kokonaispinta-ala**-sarakkeen keskiarvo, joista valitaan kuvaajaan viisi maakuntaa: **'Kainuu', 'Keski-Suomi', 'Satakunta', 'Päijät-Häme', 'Uusimaa'**\n",
    "* Pyöristä keski-arvon tulos kahden desimaalin tarkkuudelle\n",
    "* Tuloksena saatava Series-taulukko tarkastetaan tehtävässä ennen piirtämistä\n",
    "* Tulosta nämä maakunnat **pie**-diagrammina\n",
    "\n",
    "Tavoiteltavan visuaalisen lopputuloksen mallikuvan näet alta.\n",
    "\n",
    "Vinkki: Ryhmittelyssä tarvitaan `groupby`-funktiota\n",
    "Vinkki: `plt.pie`´ja sen argumentit argumentit (`explode, labels, colors, autopct, startangle, shadow`)"
   ],
   "metadata": {
    "collapsed": false
   }
  },
  {
   "cell_type": "code",
   "execution_count": 10,
   "outputs": [
    {
     "name": "stdout",
     "output_type": "stream",
     "text": [
      "Series are different\n",
      "\n",
      "Series length are different\n",
      "[left]:  1, Int64Index([2000], dtype='int64')\n",
      "[right]: 5, Index(['Kainuu', 'Keski-Suomi', 'Satakunta', 'Päijät-Häme', 'Uusimaa'], dtype='object')\n"
     ]
    }
   ],
   "source": [
    "# DataFrame-tulostaulukon alustaminen\n",
    "res = pd.Series({2000: 20})\n",
    "# DataFramen alustaminen\n",
    "df = pd.read_csv(url, sep=\";\", decimal=\",\")\n",
    "\n",
    "# TODO: Tehtävän toteutus tänne!\n",
    "\n",
    "\n",
    "# Vastauksen Series-taulukon sisällön tulosjoukon tarkastaminen\n",
    "try:\n",
    "    pd.testing.assert_series_equal(res, pandas_h6(), check_index=False, check_dtype=False)\n",
    "    print(f'Result was OK')\n",
    "except AssertionError as err_msg:\n",
    "    print(err_msg)\n",
    "\n",
    "# TODO: Kuvion piirtäminen\n",
    "\n",
    "# plt.show()"
   ],
   "metadata": {
    "collapsed": false
   }
  },
  {
   "cell_type": "markdown",
   "source": [
    "![Pandas-6 mallikuvio](img/pandas-t6.png)"
   ],
   "metadata": {
    "collapsed": false
   }
  },
  {
   "cell_type": "markdown",
   "source": [
    "## Harjoitus - ylimääräinen lisätehtävä\n",
    "### Extra-visualisointi: donitsi-kuvio\n",
    "\n",
    "Seuraavanlaista *Donitsi*-kuviota voi yrittää tuottaa, mutta tehtävää ei pisteytetä!\n",
    "Mutta mielenkiintoinen joka tapauksessa yrittää, jos jää aikaa."
   ],
   "metadata": {
    "collapsed": false
   }
  },
  {
   "cell_type": "code",
   "execution_count": 11,
   "outputs": [],
   "source": [
    "# TODO: Tehtävän toteutus tänne!\n",
    "# df = pd.read_csv(url, sep=\";\", decimal=\",\")\n",
    "\n",
    "\n",
    "# TODO: Kuvion piirtäminen\n",
    "# TODO: Ympyrä keskelle kuviota\n",
    "\n",
    "# plt.show()"
   ],
   "metadata": {
    "collapsed": false
   }
  },
  {
   "cell_type": "markdown",
   "source": [
    "![Pandas-7 mallikuvio](img/pandas-t7.png)"
   ],
   "metadata": {
    "collapsed": false
   }
  }
 ],
 "metadata": {
  "kernelspec": {
   "display_name": "Python 3",
   "language": "python",
   "name": "python3"
  },
  "language_info": {
   "codemirror_mode": {
    "name": "ipython",
    "version": 2
   },
   "file_extension": ".py",
   "mimetype": "text/x-python",
   "name": "python",
   "nbconvert_exporter": "python",
   "pygments_lexer": "ipython2",
   "version": "2.7.6"
  }
 },
 "nbformat": 4,
 "nbformat_minor": 0
}
